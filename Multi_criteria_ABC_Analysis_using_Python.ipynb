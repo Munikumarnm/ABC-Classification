{
  "nbformat": 4,
  "nbformat_minor": 0,
  "metadata": {
    "colab": {
      "name": "Multi-criteria ABC Analysis using Python",
      "provenance": [],
      "toc_visible": true,
      "mount_file_id": "13OgTnYStZ-uP978rjuHA23I6Lb3clupb",
      "authorship_tag": "ABX9TyNRT2fCdqb+HiGmtV5R6ToI",
      "include_colab_link": true
    },
    "kernelspec": {
      "name": "python3",
      "display_name": "Python 3"
    }
  },
  "cells": [
    {
      "cell_type": "markdown",
      "metadata": {
        "id": "view-in-github",
        "colab_type": "text"
      },
      "source": [
        "<a href=\"https://colab.research.google.com/github/Munikumarnm/ABC-Classification/blob/main/Multi_criteria_ABC_Analysis_using_Python.ipynb\" target=\"_parent\"><img src=\"https://colab.research.google.com/assets/colab-badge.svg\" alt=\"Open In Colab\"/></a>"
      ]
    },
    {
      "cell_type": "markdown",
      "metadata": {
        "id": "NSv6p5YZ5PUh"
      },
      "source": [
        "#What is ABC analysis"
      ]
    },
    {
      "cell_type": "markdown",
      "metadata": {
        "id": "7ULJvhFbrQxn"
      },
      "source": [
        " \r\n",
        "ABC analysis is product segmentation technique used in inventory management.  \r\n",
        "In this technique we categorize products A-calss,B-class & C-calsss items.  \r\n",
        "A: High value items and the service level is high  \r\n",
        "B: Moderate value items  & the service level is medium  \r\n",
        "C: Low value items & the service level is low  \r\n"
      ]
    },
    {
      "cell_type": "markdown",
      "metadata": {
        "id": "yhPwhuSQ2rp7"
      },
      "source": [
        "# How to do ABC analysis"
      ]
    },
    {
      "cell_type": "markdown",
      "metadata": {
        "id": "ZzMCZ3DUMzki"
      },
      "source": [
        "ABC analysis can be done basis the business requirements.  \r\n",
        "We can classify the products basis the sales volume to identify the products which are driving the volume.  \r\n",
        "We can classify the products basis the sales value to indentify the products which are driving revenue."
      ]
    },
    {
      "cell_type": "markdown",
      "metadata": {
        "id": "wZDxsr37RWxU"
      },
      "source": [
        "# Multi Criteria ABC Analysis"
      ]
    },
    {
      "cell_type": "markdown",
      "metadata": {
        "id": "kxQUuHCpSWQQ"
      },
      "source": [
        "In this classification we use two parameters to classify the products, we get 9 different clasifications like AA, AB, AC, BA, BB, BC, CA, CB & CC. \r\n",
        "Example: We can use revenue & volume for multi criteria ABC classification"
      ]
    },
    {
      "cell_type": "markdown",
      "metadata": {
        "id": "r-xZvxk05KmT"
      },
      "source": [
        "Data requirements:  \r\n",
        "1 year sales data of all the products with quantity sold & revenue generated along the store information"
      ]
    },
    {
      "cell_type": "markdown",
      "metadata": {
        "id": "mfJu-4Ud5uOh"
      },
      "source": [
        "Will download the practical data set from the Kaggle & then will classiffy the products in to ABC category"
      ]
    },
    {
      "cell_type": "markdown",
      "metadata": {
        "id": "pbUwTnqp6GkX"
      },
      "source": [
        "Note: Most of the solutions available on online are just a sample dataset. But in practical life, we will be having huge data set & data is not formated as well. To fill this gap, I'm going to use data which is availble in Kaggle and the tool used is python. Will provide the complete code as well, so that you can use it for own benefit."
      ]
    },
    {
      "cell_type": "code",
      "metadata": {
        "id": "HMF6vAil-HCO"
      },
      "source": [
        "\r\n",
        "# Let's import the libraries required for the analysis\r\n",
        "import pandas as pd # Pandas used for Data analysis, Data importing, exporting etc\r\n",
        "import numpy as np  # NumPy is used for mathematical operatons  \r\n",
        "import seaborn as sns\r\n",
        "!pip install inventorize3  # Install this package since it is not available in colab\r\n",
        "import inventorize3 as inv  # import the inventorize3 "
      ],
      "execution_count": null,
      "outputs": []
    },
    {
      "cell_type": "code",
      "metadata": {
        "id": "CHbKHo2R-G_3"
      },
      "source": [
        "# Lets use the e-commerce dataset  from kaggle- below is the link for dataset.  \r\n",
        "url= 'kaggle datasets download -d carrie1/ecommerce-data'\r\n"
      ],
      "execution_count": null,
      "outputs": []
    },
    {
      "cell_type": "code",
      "metadata": {
        "id": "Hb9SV7N1dzF9"
      },
      "source": [
        "# import the data\r\n",
        "raw_data= pd.read_csv(\"/content/drive/MyDrive/data.csv.zip\",encoding='unicode_escape')  \r\n",
        "# there are some utf-8 (non text) in data so we need to use encoding= 'unicode_escape' "
      ],
      "execution_count": null,
      "outputs": []
    },
    {
      "cell_type": "code",
      "metadata": {
        "colab": {
          "base_uri": "https://localhost:8080/",
          "height": 201
        },
        "id": "2_DS2n_CKZs3",
        "outputId": "81b8b05e-4093-4164-9b19-1281291c08c1"
      },
      "source": [
        "# Will check how data looks like\r\n",
        "raw_data.head()"
      ],
      "execution_count": null,
      "outputs": [
        {
          "output_type": "execute_result",
          "data": {
            "text/html": [
              "<div>\n",
              "<style scoped>\n",
              "    .dataframe tbody tr th:only-of-type {\n",
              "        vertical-align: middle;\n",
              "    }\n",
              "\n",
              "    .dataframe tbody tr th {\n",
              "        vertical-align: top;\n",
              "    }\n",
              "\n",
              "    .dataframe thead th {\n",
              "        text-align: right;\n",
              "    }\n",
              "</style>\n",
              "<table border=\"1\" class=\"dataframe\">\n",
              "  <thead>\n",
              "    <tr style=\"text-align: right;\">\n",
              "      <th></th>\n",
              "      <th>InvoiceNo</th>\n",
              "      <th>StockCode</th>\n",
              "      <th>Description</th>\n",
              "      <th>Quantity</th>\n",
              "      <th>InvoiceDate</th>\n",
              "      <th>UnitPrice</th>\n",
              "      <th>CustomerID</th>\n",
              "      <th>Country</th>\n",
              "    </tr>\n",
              "  </thead>\n",
              "  <tbody>\n",
              "    <tr>\n",
              "      <th>0</th>\n",
              "      <td>536365</td>\n",
              "      <td>85123A</td>\n",
              "      <td>WHITE HANGING HEART T-LIGHT HOLDER</td>\n",
              "      <td>6</td>\n",
              "      <td>12/1/2010 8:26</td>\n",
              "      <td>2.55</td>\n",
              "      <td>17850.0</td>\n",
              "      <td>United Kingdom</td>\n",
              "    </tr>\n",
              "    <tr>\n",
              "      <th>1</th>\n",
              "      <td>536365</td>\n",
              "      <td>71053</td>\n",
              "      <td>WHITE METAL LANTERN</td>\n",
              "      <td>6</td>\n",
              "      <td>12/1/2010 8:26</td>\n",
              "      <td>3.39</td>\n",
              "      <td>17850.0</td>\n",
              "      <td>United Kingdom</td>\n",
              "    </tr>\n",
              "    <tr>\n",
              "      <th>2</th>\n",
              "      <td>536365</td>\n",
              "      <td>84406B</td>\n",
              "      <td>CREAM CUPID HEARTS COAT HANGER</td>\n",
              "      <td>8</td>\n",
              "      <td>12/1/2010 8:26</td>\n",
              "      <td>2.75</td>\n",
              "      <td>17850.0</td>\n",
              "      <td>United Kingdom</td>\n",
              "    </tr>\n",
              "    <tr>\n",
              "      <th>3</th>\n",
              "      <td>536365</td>\n",
              "      <td>84029G</td>\n",
              "      <td>KNITTED UNION FLAG HOT WATER BOTTLE</td>\n",
              "      <td>6</td>\n",
              "      <td>12/1/2010 8:26</td>\n",
              "      <td>3.39</td>\n",
              "      <td>17850.0</td>\n",
              "      <td>United Kingdom</td>\n",
              "    </tr>\n",
              "    <tr>\n",
              "      <th>4</th>\n",
              "      <td>536365</td>\n",
              "      <td>84029E</td>\n",
              "      <td>RED WOOLLY HOTTIE WHITE HEART.</td>\n",
              "      <td>6</td>\n",
              "      <td>12/1/2010 8:26</td>\n",
              "      <td>3.39</td>\n",
              "      <td>17850.0</td>\n",
              "      <td>United Kingdom</td>\n",
              "    </tr>\n",
              "  </tbody>\n",
              "</table>\n",
              "</div>"
            ],
            "text/plain": [
              "  InvoiceNo StockCode  ... CustomerID         Country\n",
              "0    536365    85123A  ...    17850.0  United Kingdom\n",
              "1    536365     71053  ...    17850.0  United Kingdom\n",
              "2    536365    84406B  ...    17850.0  United Kingdom\n",
              "3    536365    84029G  ...    17850.0  United Kingdom\n",
              "4    536365    84029E  ...    17850.0  United Kingdom\n",
              "\n",
              "[5 rows x 8 columns]"
            ]
          },
          "metadata": {
            "tags": []
          },
          "execution_count": 21
        }
      ]
    },
    {
      "cell_type": "code",
      "metadata": {
        "colab": {
          "base_uri": "https://localhost:8080/"
        },
        "id": "GMkmKy8FW4S1",
        "outputId": "5a3736a6-2e85-405f-8c68-d0dfeab4d5ff"
      },
      "source": [
        "# Dimesnsion of the data\r\n",
        "raw_data.shape"
      ],
      "execution_count": null,
      "outputs": [
        {
          "output_type": "execute_result",
          "data": {
            "text/plain": [
              "(541909, 8)"
            ]
          },
          "metadata": {
            "tags": []
          },
          "execution_count": 22
        }
      ]
    },
    {
      "cell_type": "code",
      "metadata": {
        "colab": {
          "base_uri": "https://localhost:8080/"
        },
        "id": "iILeeKY5Lm6s",
        "outputId": "d277977b-3cbe-4da9-d6f5-5a5edfbce5e1"
      },
      "source": [
        "# lets see the data period of the data by checking the min &max of InvoivceDate column\r\n",
        "raw_data['InvoiceDate']= pd.to_datetime(raw_data['InvoiceDate'])\r\n",
        "print(raw_data['InvoiceDate'].min(), raw_data['InvoiceDate'].max())"
      ],
      "execution_count": null,
      "outputs": [
        {
          "output_type": "stream",
          "text": [
            "2010-12-01 08:26:00 2011-12-09 12:50:00\n"
          ],
          "name": "stdout"
        }
      ]
    },
    {
      "cell_type": "markdown",
      "metadata": {
        "id": "hMohOUaXLso-"
      },
      "source": [
        " From the above result we understood the data is from Dec'2010 to Dec'2011, 1 year data. This is good"
      ]
    },
    {
      "cell_type": "code",
      "metadata": {
        "id": "SvjCAgW-Yq3e"
      },
      "source": [
        "# Lets clean the data\r\n",
        "data= raw_data.drop_duplicates()\r\n",
        "data= data.dropna()\r\n",
        "data= data[data['Quantity']>0]"
      ],
      "execution_count": null,
      "outputs": []
    },
    {
      "cell_type": "code",
      "metadata": {
        "colab": {
          "base_uri": "https://localhost:8080/"
        },
        "id": "PaXhdmy8YS1d",
        "outputId": "fd5be5c5-14dd-4864-8226-e97c007c3aed"
      },
      "source": [
        "# lets check dimension\r\n",
        "data.shape"
      ],
      "execution_count": null,
      "outputs": [
        {
          "output_type": "execute_result",
          "data": {
            "text/plain": [
              "(392732, 8)"
            ]
          },
          "metadata": {
            "tags": []
          },
          "execution_count": 25
        }
      ]
    },
    {
      "cell_type": "code",
      "metadata": {
        "id": "PBTb4Kpaobo5"
      },
      "source": [
        "# Lets dropout unnecessary columns\r\n",
        "data1= data[['StockCode','Description','Quantity','UnitPrice']]"
      ],
      "execution_count": null,
      "outputs": []
    },
    {
      "cell_type": "code",
      "metadata": {
        "colab": {
          "base_uri": "https://localhost:8080/"
        },
        "id": "pyKjocYGqOU0",
        "outputId": "7f9a092c-23a1-419a-ab23-c3017db79f0a"
      },
      "source": [
        "# Add column revenue\r\n",
        "data1['revenue']=data1['Quantity']*data1['UnitPrice']"
      ],
      "execution_count": null,
      "outputs": [
        {
          "output_type": "stream",
          "text": [
            "/usr/local/lib/python3.6/dist-packages/ipykernel_launcher.py:2: SettingWithCopyWarning: \n",
            "A value is trying to be set on a copy of a slice from a DataFrame.\n",
            "Try using .loc[row_indexer,col_indexer] = value instead\n",
            "\n",
            "See the caveats in the documentation: https://pandas.pydata.org/pandas-docs/stable/user_guide/indexing.html#returning-a-view-versus-a-copy\n",
            "  \n"
          ],
          "name": "stderr"
        }
      ]
    },
    {
      "cell_type": "code",
      "metadata": {
        "colab": {
          "base_uri": "https://localhost:8080/",
          "height": 201
        },
        "id": "Y2mylBI-6SXM",
        "outputId": "ca6e19ea-7026-4b5d-d57b-fc1c8d3b2b81"
      },
      "source": [
        "data1.head()"
      ],
      "execution_count": null,
      "outputs": [
        {
          "output_type": "execute_result",
          "data": {
            "text/html": [
              "<div>\n",
              "<style scoped>\n",
              "    .dataframe tbody tr th:only-of-type {\n",
              "        vertical-align: middle;\n",
              "    }\n",
              "\n",
              "    .dataframe tbody tr th {\n",
              "        vertical-align: top;\n",
              "    }\n",
              "\n",
              "    .dataframe thead th {\n",
              "        text-align: right;\n",
              "    }\n",
              "</style>\n",
              "<table border=\"1\" class=\"dataframe\">\n",
              "  <thead>\n",
              "    <tr style=\"text-align: right;\">\n",
              "      <th></th>\n",
              "      <th>StockCode</th>\n",
              "      <th>Description</th>\n",
              "      <th>Quantity</th>\n",
              "      <th>UnitPrice</th>\n",
              "      <th>revenue</th>\n",
              "    </tr>\n",
              "  </thead>\n",
              "  <tbody>\n",
              "    <tr>\n",
              "      <th>0</th>\n",
              "      <td>85123A</td>\n",
              "      <td>WHITE HANGING HEART T-LIGHT HOLDER</td>\n",
              "      <td>6</td>\n",
              "      <td>2.55</td>\n",
              "      <td>15.30</td>\n",
              "    </tr>\n",
              "    <tr>\n",
              "      <th>1</th>\n",
              "      <td>71053</td>\n",
              "      <td>WHITE METAL LANTERN</td>\n",
              "      <td>6</td>\n",
              "      <td>3.39</td>\n",
              "      <td>20.34</td>\n",
              "    </tr>\n",
              "    <tr>\n",
              "      <th>2</th>\n",
              "      <td>84406B</td>\n",
              "      <td>CREAM CUPID HEARTS COAT HANGER</td>\n",
              "      <td>8</td>\n",
              "      <td>2.75</td>\n",
              "      <td>22.00</td>\n",
              "    </tr>\n",
              "    <tr>\n",
              "      <th>3</th>\n",
              "      <td>84029G</td>\n",
              "      <td>KNITTED UNION FLAG HOT WATER BOTTLE</td>\n",
              "      <td>6</td>\n",
              "      <td>3.39</td>\n",
              "      <td>20.34</td>\n",
              "    </tr>\n",
              "    <tr>\n",
              "      <th>4</th>\n",
              "      <td>84029E</td>\n",
              "      <td>RED WOOLLY HOTTIE WHITE HEART.</td>\n",
              "      <td>6</td>\n",
              "      <td>3.39</td>\n",
              "      <td>20.34</td>\n",
              "    </tr>\n",
              "  </tbody>\n",
              "</table>\n",
              "</div>"
            ],
            "text/plain": [
              "  StockCode                          Description  Quantity  UnitPrice  revenue\n",
              "0    85123A   WHITE HANGING HEART T-LIGHT HOLDER         6       2.55    15.30\n",
              "1     71053                  WHITE METAL LANTERN         6       3.39    20.34\n",
              "2    84406B       CREAM CUPID HEARTS COAT HANGER         8       2.75    22.00\n",
              "3    84029G  KNITTED UNION FLAG HOT WATER BOTTLE         6       3.39    20.34\n",
              "4    84029E       RED WOOLLY HOTTIE WHITE HEART.         6       3.39    20.34"
            ]
          },
          "metadata": {
            "tags": []
          },
          "execution_count": 32
        }
      ]
    },
    {
      "cell_type": "code",
      "metadata": {
        "id": "37KQszK1q5af"
      },
      "source": [
        "# Lets summarize the data for SKU's ( Per SKU Total Quantity & Total Revenue)\r\n",
        "data2= data1.groupby(['StockCode','Description']).agg(Volume=('Quantity',np.sum),Revenue=('revenue',np.sum)).reset_index()"
      ],
      "execution_count": null,
      "outputs": []
    },
    {
      "cell_type": "code",
      "metadata": {
        "colab": {
          "base_uri": "https://localhost:8080/",
          "height": 201
        },
        "id": "u45cPy7Ni2b3",
        "outputId": "b3bcf5d5-a9eb-4e43-dd8d-46c213230cd7"
      },
      "source": [
        "data2.head()"
      ],
      "execution_count": null,
      "outputs": [
        {
          "output_type": "execute_result",
          "data": {
            "text/html": [
              "<div>\n",
              "<style scoped>\n",
              "    .dataframe tbody tr th:only-of-type {\n",
              "        vertical-align: middle;\n",
              "    }\n",
              "\n",
              "    .dataframe tbody tr th {\n",
              "        vertical-align: top;\n",
              "    }\n",
              "\n",
              "    .dataframe thead th {\n",
              "        text-align: right;\n",
              "    }\n",
              "</style>\n",
              "<table border=\"1\" class=\"dataframe\">\n",
              "  <thead>\n",
              "    <tr style=\"text-align: right;\">\n",
              "      <th></th>\n",
              "      <th>StockCode</th>\n",
              "      <th>Description</th>\n",
              "      <th>Volume</th>\n",
              "      <th>Revenue</th>\n",
              "    </tr>\n",
              "  </thead>\n",
              "  <tbody>\n",
              "    <tr>\n",
              "      <th>0</th>\n",
              "      <td>10002</td>\n",
              "      <td>INFLATABLE POLITICAL GLOBE</td>\n",
              "      <td>823</td>\n",
              "      <td>699.55</td>\n",
              "    </tr>\n",
              "    <tr>\n",
              "      <th>1</th>\n",
              "      <td>10080</td>\n",
              "      <td>GROOVY CACTUS INFLATABLE</td>\n",
              "      <td>291</td>\n",
              "      <td>114.41</td>\n",
              "    </tr>\n",
              "    <tr>\n",
              "      <th>2</th>\n",
              "      <td>10120</td>\n",
              "      <td>DOGGY RUBBER</td>\n",
              "      <td>192</td>\n",
              "      <td>40.32</td>\n",
              "    </tr>\n",
              "    <tr>\n",
              "      <th>3</th>\n",
              "      <td>10123C</td>\n",
              "      <td>HEARTS WRAPPING TAPE</td>\n",
              "      <td>5</td>\n",
              "      <td>3.25</td>\n",
              "    </tr>\n",
              "    <tr>\n",
              "      <th>4</th>\n",
              "      <td>10124A</td>\n",
              "      <td>SPOTS ON RED BOOKCOVER TAPE</td>\n",
              "      <td>16</td>\n",
              "      <td>6.72</td>\n",
              "    </tr>\n",
              "  </tbody>\n",
              "</table>\n",
              "</div>"
            ],
            "text/plain": [
              "  StockCode                  Description  Volume  Revenue\n",
              "0     10002  INFLATABLE POLITICAL GLOBE      823   699.55\n",
              "1     10080     GROOVY CACTUS INFLATABLE     291   114.41\n",
              "2     10120                 DOGGY RUBBER     192    40.32\n",
              "3    10123C        HEARTS WRAPPING TAPE        5     3.25\n",
              "4    10124A  SPOTS ON RED BOOKCOVER TAPE      16     6.72"
            ]
          },
          "metadata": {
            "tags": []
          },
          "execution_count": 83
        }
      ]
    },
    {
      "cell_type": "code",
      "metadata": {
        "id": "4j5BIaOCfda_"
      },
      "source": [
        "# Lets classify the products to A B & C categories\r\n",
        "data_abc= inv.ABC(data2[['Description','Volume']])"
      ],
      "execution_count": null,
      "outputs": []
    },
    {
      "cell_type": "code",
      "metadata": {
        "colab": {
          "base_uri": "https://localhost:8080/",
          "height": 413
        },
        "id": "LS8nlaGOlBWz",
        "outputId": "da1830d7-1082-4030-ca8f-cad169aec6e5"
      },
      "source": [
        "# Lets check the classification\r\n",
        "data_abc"
      ],
      "execution_count": null,
      "outputs": [
        {
          "output_type": "execute_result",
          "data": {
            "text/html": [
              "<div>\n",
              "<style scoped>\n",
              "    .dataframe tbody tr th:only-of-type {\n",
              "        vertical-align: middle;\n",
              "    }\n",
              "\n",
              "    .dataframe tbody tr th {\n",
              "        vertical-align: top;\n",
              "    }\n",
              "\n",
              "    .dataframe thead th {\n",
              "        text-align: right;\n",
              "    }\n",
              "</style>\n",
              "<table border=\"1\" class=\"dataframe\">\n",
              "  <thead>\n",
              "    <tr style=\"text-align: right;\">\n",
              "      <th></th>\n",
              "      <th>Description</th>\n",
              "      <th>Volume</th>\n",
              "      <th>Percentage</th>\n",
              "      <th>comulative</th>\n",
              "      <th>Category</th>\n",
              "    </tr>\n",
              "  </thead>\n",
              "  <tbody>\n",
              "    <tr>\n",
              "      <th>2602</th>\n",
              "      <td>PAPER CRAFT , LITTLE BIRDIE</td>\n",
              "      <td>80995</td>\n",
              "      <td>1.567882e-02</td>\n",
              "      <td>0.015679</td>\n",
              "      <td>A</td>\n",
              "    </tr>\n",
              "    <tr>\n",
              "      <th>2100</th>\n",
              "      <td>MEDIUM CERAMIC TOP STORAGE JAR</td>\n",
              "      <td>77916</td>\n",
              "      <td>1.508280e-02</td>\n",
              "      <td>0.030762</td>\n",
              "      <td>A</td>\n",
              "    </tr>\n",
              "    <tr>\n",
              "      <th>3020</th>\n",
              "      <td>WORLD WAR 2 GLIDERS ASSTD DESIGNS</td>\n",
              "      <td>54319</td>\n",
              "      <td>1.051494e-02</td>\n",
              "      <td>0.041277</td>\n",
              "      <td>A</td>\n",
              "    </tr>\n",
              "    <tr>\n",
              "      <th>3444</th>\n",
              "      <td>JUMBO BAG RED RETROSPOT</td>\n",
              "      <td>46078</td>\n",
              "      <td>8.919670e-03</td>\n",
              "      <td>0.050196</td>\n",
              "      <td>A</td>\n",
              "    </tr>\n",
              "    <tr>\n",
              "      <th>3459</th>\n",
              "      <td>WHITE HANGING HEART T-LIGHT HOLDER</td>\n",
              "      <td>36706</td>\n",
              "      <td>7.105461e-03</td>\n",
              "      <td>0.057302</td>\n",
              "      <td>A</td>\n",
              "    </tr>\n",
              "    <tr>\n",
              "      <th>...</th>\n",
              "      <td>...</td>\n",
              "      <td>...</td>\n",
              "      <td>...</td>\n",
              "      <td>...</td>\n",
              "      <td>...</td>\n",
              "    </tr>\n",
              "    <tr>\n",
              "      <th>3696</th>\n",
              "      <td>NECKLACE+BRACELET SET PINK DAISY</td>\n",
              "      <td>1</td>\n",
              "      <td>1.935776e-07</td>\n",
              "      <td>0.999999</td>\n",
              "      <td>C</td>\n",
              "    </tr>\n",
              "    <tr>\n",
              "      <th>257</th>\n",
              "      <td>SET/3 TALL GLASS CANDLE HOLDER PINK</td>\n",
              "      <td>1</td>\n",
              "      <td>1.935776e-07</td>\n",
              "      <td>0.999999</td>\n",
              "      <td>C</td>\n",
              "    </tr>\n",
              "    <tr>\n",
              "      <th>2608</th>\n",
              "      <td>SET OF 3 PINK FLYING DUCKS</td>\n",
              "      <td>1</td>\n",
              "      <td>1.935776e-07</td>\n",
              "      <td>1.000000</td>\n",
              "      <td>C</td>\n",
              "    </tr>\n",
              "    <tr>\n",
              "      <th>3686</th>\n",
              "      <td>PINK CRYSTAL GUITAR PHONE CHARM</td>\n",
              "      <td>1</td>\n",
              "      <td>1.935776e-07</td>\n",
              "      <td>1.000000</td>\n",
              "      <td>C</td>\n",
              "    </tr>\n",
              "    <tr>\n",
              "      <th>3590</th>\n",
              "      <td>SILVER AND BLACK ORBIT NECKLACE</td>\n",
              "      <td>1</td>\n",
              "      <td>1.935776e-07</td>\n",
              "      <td>1.000000</td>\n",
              "      <td>C</td>\n",
              "    </tr>\n",
              "  </tbody>\n",
              "</table>\n",
              "<p>3897 rows × 5 columns</p>\n",
              "</div>"
            ],
            "text/plain": [
              "                              Description  Volume  ...  comulative  Category\n",
              "2602          PAPER CRAFT , LITTLE BIRDIE   80995  ...    0.015679         A\n",
              "2100       MEDIUM CERAMIC TOP STORAGE JAR   77916  ...    0.030762         A\n",
              "3020    WORLD WAR 2 GLIDERS ASSTD DESIGNS   54319  ...    0.041277         A\n",
              "3444              JUMBO BAG RED RETROSPOT   46078  ...    0.050196         A\n",
              "3459   WHITE HANGING HEART T-LIGHT HOLDER   36706  ...    0.057302         A\n",
              "...                                   ...     ...  ...         ...       ...\n",
              "3696     NECKLACE+BRACELET SET PINK DAISY       1  ...    0.999999         C\n",
              "257   SET/3 TALL GLASS CANDLE HOLDER PINK       1  ...    0.999999         C\n",
              "2608           SET OF 3 PINK FLYING DUCKS       1  ...    1.000000         C\n",
              "3686      PINK CRYSTAL GUITAR PHONE CHARM       1  ...    1.000000         C\n",
              "3590      SILVER AND BLACK ORBIT NECKLACE       1  ...    1.000000         C\n",
              "\n",
              "[3897 rows x 5 columns]"
            ]
          },
          "metadata": {
            "tags": []
          },
          "execution_count": 87
        }
      ]
    },
    {
      "cell_type": "code",
      "metadata": {
        "colab": {
          "base_uri": "https://localhost:8080/"
        },
        "id": "ISsozpnB6kIX",
        "outputId": "b5cf7d22-8fd2-47dc-e0ed-9ac4f799f248"
      },
      "source": [
        "# let us check the count of Categories\r\n",
        "data_abc.Category.value_counts()"
      ],
      "execution_count": null,
      "outputs": [
        {
          "output_type": "execute_result",
          "data": {
            "text/plain": [
              "C    2143\n",
              "A     879\n",
              "B     875\n",
              "Name: Category, dtype: int64"
            ]
          },
          "metadata": {
            "tags": []
          },
          "execution_count": 90
        }
      ]
    },
    {
      "cell_type": "code",
      "metadata": {
        "id": "TNvDImlAiWFp"
      },
      "source": [
        "data_summary= data_abc.groupby('Category').agg(Count=('Category',np.count_nonzero),Percentage=('Percentage',np.sum)).reset_index()"
      ],
      "execution_count": null,
      "outputs": []
    },
    {
      "cell_type": "code",
      "metadata": {
        "id": "oZhoyiVeqyTB"
      },
      "source": [
        "data_summary['Percentage']= data_summary['Percentage']*100"
      ],
      "execution_count": null,
      "outputs": []
    },
    {
      "cell_type": "code",
      "metadata": {
        "colab": {
          "base_uri": "https://localhost:8080/",
          "height": 139
        },
        "id": "QNiBPbJW9WZh",
        "outputId": "1d9cf4d4-2ea2-4485-d509-b5cb14b24510"
      },
      "source": [
        "data_summary"
      ],
      "execution_count": null,
      "outputs": [
        {
          "output_type": "execute_result",
          "data": {
            "text/html": [
              "<div>\n",
              "<style scoped>\n",
              "    .dataframe tbody tr th:only-of-type {\n",
              "        vertical-align: middle;\n",
              "    }\n",
              "\n",
              "    .dataframe tbody tr th {\n",
              "        vertical-align: top;\n",
              "    }\n",
              "\n",
              "    .dataframe thead th {\n",
              "        text-align: right;\n",
              "    }\n",
              "</style>\n",
              "<table border=\"1\" class=\"dataframe\">\n",
              "  <thead>\n",
              "    <tr style=\"text-align: right;\">\n",
              "      <th></th>\n",
              "      <th>Category</th>\n",
              "      <th>Count</th>\n",
              "      <th>Percentage</th>\n",
              "    </tr>\n",
              "  </thead>\n",
              "  <tbody>\n",
              "    <tr>\n",
              "      <th>0</th>\n",
              "      <td>A</td>\n",
              "      <td>879</td>\n",
              "      <td>79.996597</td>\n",
              "    </tr>\n",
              "    <tr>\n",
              "      <th>1</th>\n",
              "      <td>B</td>\n",
              "      <td>875</td>\n",
              "      <td>15.000989</td>\n",
              "    </tr>\n",
              "    <tr>\n",
              "      <th>2</th>\n",
              "      <td>C</td>\n",
              "      <td>2143</td>\n",
              "      <td>5.002414</td>\n",
              "    </tr>\n",
              "  </tbody>\n",
              "</table>\n",
              "</div>"
            ],
            "text/plain": [
              "  Category  Count  Percentage\n",
              "0        A    879   79.996597\n",
              "1        B    875   15.000989\n",
              "2        C   2143    5.002414"
            ]
          },
          "metadata": {
            "tags": []
          },
          "execution_count": 101
        }
      ]
    },
    {
      "cell_type": "code",
      "metadata": {
        "colab": {
          "base_uri": "https://localhost:8080/",
          "height": 298
        },
        "id": "cEegGuyL9Xtq",
        "outputId": "06af67ad-27dd-4296-9ee8-525140f8ae06"
      },
      "source": [
        "# Lets plot the graph for count of Categories A, B, C\r\n",
        "sns.countplot(x='Category',data=data_abc)"
      ],
      "execution_count": null,
      "outputs": [
        {
          "output_type": "execute_result",
          "data": {
            "text/plain": [
              "<matplotlib.axes._subplots.AxesSubplot at 0x7fc17e8fb390>"
            ]
          },
          "metadata": {
            "tags": []
          },
          "execution_count": 106
        },
        {
          "output_type": "display_data",
          "data": {
            "image/png": "[encoded data removed]",
            "text/plain": [
              "<Figure size 432x288 with 1 Axes>"
            ]
          },
          "metadata": {
            "tags": [],
            "needs_background": "light"
          }
        }
      ]
    },
    {
      "cell_type": "code",
      "metadata": {
        "colab": {
          "base_uri": "https://localhost:8080/",
          "height": 298
        },
        "id": "jQ4KwUb99yLR",
        "outputId": "54c53ff1-aad4-4dc3-d7f8-070746536d6d"
      },
      "source": [
        "# Lets plot the graph for volume of sales\r\n",
        "sns.barplot(x='Category',y='Volume',data=data_abc)"
      ],
      "execution_count": null,
      "outputs": [
        {
          "output_type": "execute_result",
          "data": {
            "text/plain": [
              "<matplotlib.axes._subplots.AxesSubplot at 0x7fc17e844b00>"
            ]
          },
          "metadata": {
            "tags": []
          },
          "execution_count": 109
        },
        {
          "output_type": "display_data",
          "data": {
            "image/png": "[encoded data removed]",
            "text/plain": [
              "<Figure size 432x288 with 1 Axes>"
            ]
          },
          "metadata": {
            "tags": [],
            "needs_background": "light"
          }
        }
      ]
    },
    {
      "cell_type": "markdown",
      "metadata": {
        "id": "FPDIBdgz_rFD"
      },
      "source": [
        "# Multi- Criteria ABC Analysis "
      ]
    },
    {
      "cell_type": "code",
      "metadata": {
        "id": "BNL1pbNSCe2n"
      },
      "source": [
        "# Lets add the ABC classification for both Volume & Revenue\r\n",
        "data_mABC= inv.productmix(data2['Description'],data2['Volume'],data2['Revenue'])"
      ],
      "execution_count": null,
      "outputs": []
    },
    {
      "cell_type": "code",
      "metadata": {
        "colab": {
          "base_uri": "https://localhost:8080/",
          "height": 471
        },
        "id": "Ak8nJhVxEX7i",
        "outputId": "4c9fba5a-ae12-4849-c68f-98ab962a4b95"
      },
      "source": [
        "data_mABC.head()"
      ],
      "execution_count": null,
      "outputs": [
        {
          "output_type": "execute_result",
          "data": {
            "text/html": [
              "<div>\n",
              "<style scoped>\n",
              "    .dataframe tbody tr th:only-of-type {\n",
              "        vertical-align: middle;\n",
              "    }\n",
              "\n",
              "    .dataframe tbody tr th {\n",
              "        vertical-align: top;\n",
              "    }\n",
              "\n",
              "    .dataframe thead th {\n",
              "        text-align: right;\n",
              "    }\n",
              "</style>\n",
              "<table border=\"1\" class=\"dataframe\">\n",
              "  <thead>\n",
              "    <tr style=\"text-align: right;\">\n",
              "      <th></th>\n",
              "      <th>skus</th>\n",
              "      <th>sales</th>\n",
              "      <th>revenue</th>\n",
              "      <th>sales_mix</th>\n",
              "      <th>comulative_sales</th>\n",
              "      <th>revenue_mix</th>\n",
              "      <th>comulative_revenue</th>\n",
              "      <th>sales_category</th>\n",
              "      <th>revenue_category</th>\n",
              "      <th>product_mix</th>\n",
              "    </tr>\n",
              "  </thead>\n",
              "  <tbody>\n",
              "    <tr>\n",
              "      <th>2602</th>\n",
              "      <td>PAPER CRAFT , LITTLE BIRDIE</td>\n",
              "      <td>80995</td>\n",
              "      <td>168469.60</td>\n",
              "      <td>0.015679</td>\n",
              "      <td>0.015679</td>\n",
              "      <td>0.018956</td>\n",
              "      <td>0.018956</td>\n",
              "      <td>A</td>\n",
              "      <td>A</td>\n",
              "      <td>A_A</td>\n",
              "    </tr>\n",
              "    <tr>\n",
              "      <th>1318</th>\n",
              "      <td>REGENCY CAKESTAND 3 TIER</td>\n",
              "      <td>12384</td>\n",
              "      <td>142264.75</td>\n",
              "      <td>0.002397</td>\n",
              "      <td>0.190741</td>\n",
              "      <td>0.016008</td>\n",
              "      <td>0.034964</td>\n",
              "      <td>A</td>\n",
              "      <td>A</td>\n",
              "      <td>A_A</td>\n",
              "    </tr>\n",
              "    <tr>\n",
              "      <th>3459</th>\n",
              "      <td>WHITE HANGING HEART T-LIGHT HOLDER</td>\n",
              "      <td>36706</td>\n",
              "      <td>100392.10</td>\n",
              "      <td>0.007105</td>\n",
              "      <td>0.057302</td>\n",
              "      <td>0.011296</td>\n",
              "      <td>0.046260</td>\n",
              "      <td>A</td>\n",
              "      <td>A</td>\n",
              "      <td>A_A</td>\n",
              "    </tr>\n",
              "    <tr>\n",
              "      <th>3444</th>\n",
              "      <td>JUMBO BAG RED RETROSPOT</td>\n",
              "      <td>46078</td>\n",
              "      <td>85040.54</td>\n",
              "      <td>0.008920</td>\n",
              "      <td>0.050196</td>\n",
              "      <td>0.009569</td>\n",
              "      <td>0.055829</td>\n",
              "      <td>A</td>\n",
              "      <td>A</td>\n",
              "      <td>A_A</td>\n",
              "    </tr>\n",
              "    <tr>\n",
              "      <th>2100</th>\n",
              "      <td>MEDIUM CERAMIC TOP STORAGE JAR</td>\n",
              "      <td>77916</td>\n",
              "      <td>81416.73</td>\n",
              "      <td>0.015083</td>\n",
              "      <td>0.030762</td>\n",
              "      <td>0.009161</td>\n",
              "      <td>0.064990</td>\n",
              "      <td>A</td>\n",
              "      <td>A</td>\n",
              "      <td>A_A</td>\n",
              "    </tr>\n",
              "  </tbody>\n",
              "</table>\n",
              "</div>"
            ],
            "text/plain": [
              "                                    skus  sales  ...  revenue_category  product_mix\n",
              "2602         PAPER CRAFT , LITTLE BIRDIE  80995  ...                 A          A_A\n",
              "1318            REGENCY CAKESTAND 3 TIER  12384  ...                 A          A_A\n",
              "3459  WHITE HANGING HEART T-LIGHT HOLDER  36706  ...                 A          A_A\n",
              "3444             JUMBO BAG RED RETROSPOT  46078  ...                 A          A_A\n",
              "2100      MEDIUM CERAMIC TOP STORAGE JAR  77916  ...                 A          A_A\n",
              "\n",
              "[5 rows x 10 columns]"
            ]
          },
          "metadata": {
            "tags": []
          },
          "execution_count": 116
        }
      ]
    },
    {
      "cell_type": "code",
      "metadata": {
        "colab": {
          "base_uri": "https://localhost:8080/"
        },
        "id": "37rGFUSuDMFy",
        "outputId": "25113899-71e5-4b28-d2d1-469e7bd79c2c"
      },
      "source": [
        "data_mABC.product_mix.value_counts()"
      ],
      "execution_count": null,
      "outputs": [
        {
          "output_type": "execute_result",
          "data": {
            "text/plain": [
              "C_C    1802\n",
              "A_A     560\n",
              "B_B     397\n",
              "C_B     288\n",
              "B_C     282\n",
              "A_B     275\n",
              "B_A     196\n",
              "C_A      53\n",
              "A_C      44\n",
              "Name: product_mix, dtype: int64"
            ]
          },
          "metadata": {
            "tags": []
          },
          "execution_count": 113
        }
      ]
    },
    {
      "cell_type": "code",
      "metadata": {
        "colab": {
          "base_uri": "https://localhost:8080/",
          "height": 300
        },
        "id": "LhPu8N0MDNx3",
        "outputId": "45e0c0b9-0b0c-4d9d-8296-cd310a72abcb"
      },
      "source": [
        "sns.countplot(x='product_mix',data=data_mABC)"
      ],
      "execution_count": null,
      "outputs": [
        {
          "output_type": "execute_result",
          "data": {
            "text/plain": [
              "<matplotlib.axes._subplots.AxesSubplot at 0x7fc17e731b70>"
            ]
          },
          "metadata": {
            "tags": []
          },
          "execution_count": 118
        },
        {
          "output_type": "display_data",
          "data": {
            "image/png": "[encoded data removed]",
            "text/plain": [
              "<Figure size 432x288 with 1 Axes>"
            ]
          },
          "metadata": {
            "tags": [],
            "needs_background": "light"
          }
        }
      ]
    },
    {
      "cell_type": "code",
      "metadata": {
        "colab": {
          "base_uri": "https://localhost:8080/",
          "height": 300
        },
        "id": "spNKnzUoEP5b",
        "outputId": "484f20a5-8789-4e6f-9e2a-3b0ed1bb3985"
      },
      "source": [
        "sns.barplot(x='product_mix',y='sales',data=data_mABC)"
      ],
      "execution_count": null,
      "outputs": [
        {
          "output_type": "execute_result",
          "data": {
            "text/plain": [
              "<matplotlib.axes._subplots.AxesSubplot at 0x7fc17e68a550>"
            ]
          },
          "metadata": {
            "tags": []
          },
          "execution_count": 119
        },
        {
          "output_type": "display_data",
          "data": {
            "image/png": "[encoded data removed]",
            "text/plain": [
              "<Figure size 432x288 with 1 Axes>"
            ]
          },
          "metadata": {
            "tags": [],
            "needs_background": "light"
          }
        }
      ]
    },
    {
      "cell_type": "code",
      "metadata": {
        "id": "mnTHc9lxFWzK",
        "colab": {
          "base_uri": "https://localhost:8080/"
        },
        "outputId": "29c65ff8-4911-48d1-eb0c-1f38f4d69c5d"
      },
      "source": [
        "sns.barplot(x='product_mix',y='revenue',data=data_mABC)"
      ],
      "execution_count": null,
      "outputs": [
        {
          "output_type": "execute_result",
          "data": {
            "text/plain": [
              "<matplotlib.axes._subplots.AxesSubplot at 0x7fc17e61a978>"
            ]
          },
          "metadata": {
            "tags": []
          },
          "execution_count": 120
        },
        {
          "output_type": "display_data",
          "data": {
            "image/png": "[encoded data removed]",
            "text/plain": [
              "<Figure size 432x288 with 1 Axes>"
            ]
          },
          "metadata": {
            "tags": [],
            "needs_background": "light"
          }
        }
      ]
    },
    {
      "cell_type": "code",
      "metadata": {
        "id": "cYiexBUSFb_6"
      },
      "source": [
        ""
      ],
      "execution_count": null,
      "outputs": []
    }
  ]
}