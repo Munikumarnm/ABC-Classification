{
  "nbformat": 4,
  "nbformat_minor": 0,
  "metadata": {
    "colab": {
      "name": "Product Classification _ABC Analysis",
      "provenance": [],
      "mount_file_id": "19ikMrAq8uLDWvvhYUF23toxMoiPKErBY",
      "authorship_tag": "ABX9TyPIcNpjT3IJjaGlAkamUXXh",
      "include_colab_link": true
    },
    "kernelspec": {
      "display_name": "Python 3",
      "name": "python3"
    }
  },
  "cells": [
    {
      "cell_type": "markdown",
      "metadata": {
        "id": "view-in-github",
        "colab_type": "text"
      },
      "source": [
        "<a href=\"https://colab.research.google.com/github/Munikumarnm/ABC-Classification/blob/main/Product_Classification__ABC_Analysis.ipynb\" target=\"_parent\"><img src=\"https://colab.research.google.com/assets/colab-badge.svg\" alt=\"Open In Colab\"/></a>"
      ]
    },
    {
      "cell_type": "markdown",
      "metadata": {
        "id": "NSv6p5YZ5PUh"
      },
      "source": [
        "#What is ABC analysis"
      ]
    },
    {
      "cell_type": "markdown",
      "metadata": {
        "id": "7ULJvhFbrQxn"
      },
      "source": [
        " \r\n",
        "ABC analysis is product segmentation technique used in inventory management.  \r\n",
        "In this technique we categorize products A-calss,B-class & C-calss items.  \r\n",
        "A: High value items and the service level is high  \r\n",
        "B: Moderate value items  & the service level is medium  \r\n",
        "C: Low value items & the service level is low  \r\n"
      ]
    },
    {
      "cell_type": "markdown",
      "metadata": {
        "id": "yhPwhuSQ2rp7"
      },
      "source": [
        "\r\n",
        "# How to do ABC analysis"
      ]
    },
    {
      "cell_type": "markdown",
      "metadata": {
        "id": "ZzMCZ3DUMzki"
      },
      "source": [
        "ABC analysis can be done basis the business requirements.  \r\n",
        "We can classify the products basis the sales volume to identify the products which are driving the sales volume.  \r\n",
        "We can classify the products basis the sales value to indentify the products which are driving sales revenue."
      ]
    },
    {
      "cell_type": "markdown",
      "metadata": {
        "id": "VX_NScZYA1U4"
      },
      "source": [
        "Data requirements:  \r\n",
        "1 year sales data of all the products with quantity sold & revenue generated"
      ]
    },
    {
      "cell_type": "markdown",
      "metadata": {
        "id": "JvwfszHQA1U4"
      },
      "source": [
        "Will download the data set from the Kaggle & then will classiffy the products in to ABC category"
      ]
    },
    {
      "cell_type": "code",
      "metadata": {
        "id": "Y3pfNCRUA1U5"
      },
      "source": [
        "# Let's import the libraries required for the analysis\r\n",
        "import pandas as pd # Pandas used for Data analysis, Data importing, exporting etc\r\n",
        "import numpy as np  # NumPy is used for mathematical operatons  \r\n",
        "import seaborn as sns\r\n",
        "!pip install inventorize3  # Install this package since it is not available in colab\r\n",
        "import inventorize3 as inv  # import the inventorize3 "
      ],
      "execution_count": null,
      "outputs": []
    },
    {
      "cell_type": "code",
      "metadata": {
        "id": "e91wx2R6A1U5"
      },
      "source": [
        "# Lets use the e-commerce dataset from kaggle- below is the link for dataset.  \r\n",
        "url= 'kaggle datasets download -d carrie1/ecommerce-data'\r\n",
        "# Download the dataset form Kaggle & store it in your google drive "
      ],
      "execution_count": null,
      "outputs": []
    },
    {
      "cell_type": "code",
      "metadata": {
        "id": "8AJi9FuTA1U5"
      },
      "source": [
        "# import the data\r\n",
        "raw_data= pd.read_csv(\"/content/drive/MyDrive/archive.zip\",encoding='unicode_escape')  # If you are using any other IDE( Jypyter notebook,Spyder etc..then specify the path of the file)\r\n",
        "# there are some utf-8 (non text) in data so we need to use encoding= 'unicode_escape' "
      ],
      "execution_count": 30,
      "outputs": []
    },
    {
      "cell_type": "code",
      "metadata": {
        "colab": {
          "base_uri": "https://localhost:8080/",
          "height": 201
        },
        "id": "WkhxKvagA1VG",
        "outputId": "8e52da73-c732-4aa8-e6be-b25d8ae0be97"
      },
      "source": [
        "# Will check how data looks like\r\n",
        "raw_data.head(5)"
      ],
      "execution_count": 32,
      "outputs": [
        {
          "output_type": "execute_result",
          "data": {
            "text/html": [
              "<div>\n",
              "<style scoped>\n",
              "    .dataframe tbody tr th:only-of-type {\n",
              "        vertical-align: middle;\n",
              "    }\n",
              "\n",
              "    .dataframe tbody tr th {\n",
              "        vertical-align: top;\n",
              "    }\n",
              "\n",
              "    .dataframe thead th {\n",
              "        text-align: right;\n",
              "    }\n",
              "</style>\n",
              "<table border=\"1\" class=\"dataframe\">\n",
              "  <thead>\n",
              "    <tr style=\"text-align: right;\">\n",
              "      <th></th>\n",
              "      <th>InvoiceNo</th>\n",
              "      <th>StockCode</th>\n",
              "      <th>Description</th>\n",
              "      <th>Quantity</th>\n",
              "      <th>InvoiceDate</th>\n",
              "      <th>UnitPrice</th>\n",
              "      <th>CustomerID</th>\n",
              "      <th>Country</th>\n",
              "    </tr>\n",
              "  </thead>\n",
              "  <tbody>\n",
              "    <tr>\n",
              "      <th>0</th>\n",
              "      <td>536365</td>\n",
              "      <td>85123A</td>\n",
              "      <td>WHITE HANGING HEART T-LIGHT HOLDER</td>\n",
              "      <td>6</td>\n",
              "      <td>12/1/2010 8:26</td>\n",
              "      <td>2.55</td>\n",
              "      <td>17850.0</td>\n",
              "      <td>United Kingdom</td>\n",
              "    </tr>\n",
              "    <tr>\n",
              "      <th>1</th>\n",
              "      <td>536365</td>\n",
              "      <td>71053</td>\n",
              "      <td>WHITE METAL LANTERN</td>\n",
              "      <td>6</td>\n",
              "      <td>12/1/2010 8:26</td>\n",
              "      <td>3.39</td>\n",
              "      <td>17850.0</td>\n",
              "      <td>United Kingdom</td>\n",
              "    </tr>\n",
              "    <tr>\n",
              "      <th>2</th>\n",
              "      <td>536365</td>\n",
              "      <td>84406B</td>\n",
              "      <td>CREAM CUPID HEARTS COAT HANGER</td>\n",
              "      <td>8</td>\n",
              "      <td>12/1/2010 8:26</td>\n",
              "      <td>2.75</td>\n",
              "      <td>17850.0</td>\n",
              "      <td>United Kingdom</td>\n",
              "    </tr>\n",
              "    <tr>\n",
              "      <th>3</th>\n",
              "      <td>536365</td>\n",
              "      <td>84029G</td>\n",
              "      <td>KNITTED UNION FLAG HOT WATER BOTTLE</td>\n",
              "      <td>6</td>\n",
              "      <td>12/1/2010 8:26</td>\n",
              "      <td>3.39</td>\n",
              "      <td>17850.0</td>\n",
              "      <td>United Kingdom</td>\n",
              "    </tr>\n",
              "    <tr>\n",
              "      <th>4</th>\n",
              "      <td>536365</td>\n",
              "      <td>84029E</td>\n",
              "      <td>RED WOOLLY HOTTIE WHITE HEART.</td>\n",
              "      <td>6</td>\n",
              "      <td>12/1/2010 8:26</td>\n",
              "      <td>3.39</td>\n",
              "      <td>17850.0</td>\n",
              "      <td>United Kingdom</td>\n",
              "    </tr>\n",
              "  </tbody>\n",
              "</table>\n",
              "</div>"
            ],
            "text/plain": [
              "  InvoiceNo StockCode  ... CustomerID         Country\n",
              "0    536365    85123A  ...    17850.0  United Kingdom\n",
              "1    536365     71053  ...    17850.0  United Kingdom\n",
              "2    536365    84406B  ...    17850.0  United Kingdom\n",
              "3    536365    84029G  ...    17850.0  United Kingdom\n",
              "4    536365    84029E  ...    17850.0  United Kingdom\n",
              "\n",
              "[5 rows x 8 columns]"
            ]
          },
          "metadata": {
            "tags": []
          },
          "execution_count": 32
        }
      ]
    },
    {
      "cell_type": "code",
      "metadata": {
        "colab": {
          "base_uri": "https://localhost:8080/"
        },
        "id": "s-6yPyFYA1VH",
        "outputId": "0827fcca-1620-478c-a5e7-ccf12d805b54"
      },
      "source": [
        "# Dimesnsion of the data\r\n",
        "raw_data.shape"
      ],
      "execution_count": 33,
      "outputs": [
        {
          "output_type": "execute_result",
          "data": {
            "text/plain": [
              "(541909, 8)"
            ]
          },
          "metadata": {
            "tags": []
          },
          "execution_count": 33
        }
      ]
    },
    {
      "cell_type": "code",
      "metadata": {
        "colab": {
          "base_uri": "https://localhost:8080/"
        },
        "id": "IWTf56c4l1pE",
        "outputId": "1812c666-96c5-4ce8-aee8-953049e5087e"
      },
      "source": [
        "# Let us check the types of the columns\r\n",
        "raw_data.dtypes"
      ],
      "execution_count": 35,
      "outputs": [
        {
          "output_type": "execute_result",
          "data": {
            "text/plain": [
              "InvoiceNo       object\n",
              "StockCode       object\n",
              "Description     object\n",
              "Quantity         int64\n",
              "InvoiceDate     object\n",
              "UnitPrice      float64\n",
              "CustomerID     float64\n",
              "Country         object\n",
              "dtype: object"
            ]
          },
          "metadata": {
            "tags": []
          },
          "execution_count": 35
        }
      ]
    },
    {
      "cell_type": "code",
      "metadata": {
        "colab": {
          "base_uri": "https://localhost:8080/"
        },
        "id": "Wg7zO4CqA1VH",
        "outputId": "fda4f5d2-b960-41a1-d86b-9db49bb271c1"
      },
      "source": [
        "# lets see the data period of the data by checking the min &max of InvoivceDate column\r\n",
        "raw_data['InvoiceDate']= pd.to_datetime(raw_data['InvoiceDate'])\r\n",
        "print(raw_data['InvoiceDate'].min(), raw_data['InvoiceDate'].max())"
      ],
      "execution_count": 36,
      "outputs": [
        {
          "output_type": "stream",
          "text": [
            "2010-12-01 08:26:00 2011-12-09 12:50:00\n"
          ],
          "name": "stdout"
        }
      ]
    },
    {
      "cell_type": "markdown",
      "metadata": {
        "id": "gohY788nA1VH"
      },
      "source": [
        " From the above result we understood the data is from Dec'2010 to Dec'2011, 1 year data. This is good"
      ]
    },
    {
      "cell_type": "code",
      "metadata": {
        "id": "ug6bE-BSA1VH"
      },
      "source": [
        "# Lets clean the data\r\n",
        "data= raw_data.drop_duplicates()\r\n",
        "data= data.dropna()\r\n",
        "data= data[data['Quantity']>0]"
      ],
      "execution_count": 37,
      "outputs": []
    },
    {
      "cell_type": "code",
      "metadata": {
        "colab": {
          "base_uri": "https://localhost:8080/"
        },
        "id": "zQb8IAdgA1VH",
        "outputId": "ebe78817-6028-44eb-f2ce-07995f4bb422"
      },
      "source": [
        "# lets check dimension\r\n",
        "data.shape"
      ],
      "execution_count": 38,
      "outputs": [
        {
          "output_type": "execute_result",
          "data": {
            "text/plain": [
              "(392732, 8)"
            ]
          },
          "metadata": {
            "tags": []
          },
          "execution_count": 38
        }
      ]
    },
    {
      "cell_type": "code",
      "metadata": {
        "id": "061uKJPQA1VI"
      },
      "source": [
        "# Lets dropout unnecessary columns\r\n",
        "data1= data[['StockCode','Description','Quantity','UnitPrice']]"
      ],
      "execution_count": 39,
      "outputs": []
    },
    {
      "cell_type": "code",
      "metadata": {
        "colab": {
          "base_uri": "https://localhost:8080/"
        },
        "id": "Ksmjh169A1VI",
        "outputId": "2b16e73b-53d0-4aa4-81e3-df1818c86eb5"
      },
      "source": [
        "# Add column revenue\r\n",
        "data1['revenue']=data1['Quantity']*data1['UnitPrice']"
      ],
      "execution_count": 40,
      "outputs": [
        {
          "output_type": "stream",
          "text": [
            "/usr/local/lib/python3.6/dist-packages/ipykernel_launcher.py:2: SettingWithCopyWarning: \n",
            "A value is trying to be set on a copy of a slice from a DataFrame.\n",
            "Try using .loc[row_indexer,col_indexer] = value instead\n",
            "\n",
            "See the caveats in the documentation: https://pandas.pydata.org/pandas-docs/stable/user_guide/indexing.html#returning-a-view-versus-a-copy\n",
            "  \n"
          ],
          "name": "stderr"
        }
      ]
    },
    {
      "cell_type": "code",
      "metadata": {
        "colab": {
          "base_uri": "https://localhost:8080/",
          "height": 201
        },
        "id": "lmiZufxTA1VI",
        "outputId": "b939fc74-e001-463f-fcd8-46831f213845"
      },
      "source": [
        "data1.head()"
      ],
      "execution_count": 41,
      "outputs": [
        {
          "output_type": "execute_result",
          "data": {
            "text/html": [
              "<div>\n",
              "<style scoped>\n",
              "    .dataframe tbody tr th:only-of-type {\n",
              "        vertical-align: middle;\n",
              "    }\n",
              "\n",
              "    .dataframe tbody tr th {\n",
              "        vertical-align: top;\n",
              "    }\n",
              "\n",
              "    .dataframe thead th {\n",
              "        text-align: right;\n",
              "    }\n",
              "</style>\n",
              "<table border=\"1\" class=\"dataframe\">\n",
              "  <thead>\n",
              "    <tr style=\"text-align: right;\">\n",
              "      <th></th>\n",
              "      <th>StockCode</th>\n",
              "      <th>Description</th>\n",
              "      <th>Quantity</th>\n",
              "      <th>UnitPrice</th>\n",
              "      <th>revenue</th>\n",
              "    </tr>\n",
              "  </thead>\n",
              "  <tbody>\n",
              "    <tr>\n",
              "      <th>0</th>\n",
              "      <td>85123A</td>\n",
              "      <td>WHITE HANGING HEART T-LIGHT HOLDER</td>\n",
              "      <td>6</td>\n",
              "      <td>2.55</td>\n",
              "      <td>15.30</td>\n",
              "    </tr>\n",
              "    <tr>\n",
              "      <th>1</th>\n",
              "      <td>71053</td>\n",
              "      <td>WHITE METAL LANTERN</td>\n",
              "      <td>6</td>\n",
              "      <td>3.39</td>\n",
              "      <td>20.34</td>\n",
              "    </tr>\n",
              "    <tr>\n",
              "      <th>2</th>\n",
              "      <td>84406B</td>\n",
              "      <td>CREAM CUPID HEARTS COAT HANGER</td>\n",
              "      <td>8</td>\n",
              "      <td>2.75</td>\n",
              "      <td>22.00</td>\n",
              "    </tr>\n",
              "    <tr>\n",
              "      <th>3</th>\n",
              "      <td>84029G</td>\n",
              "      <td>KNITTED UNION FLAG HOT WATER BOTTLE</td>\n",
              "      <td>6</td>\n",
              "      <td>3.39</td>\n",
              "      <td>20.34</td>\n",
              "    </tr>\n",
              "    <tr>\n",
              "      <th>4</th>\n",
              "      <td>84029E</td>\n",
              "      <td>RED WOOLLY HOTTIE WHITE HEART.</td>\n",
              "      <td>6</td>\n",
              "      <td>3.39</td>\n",
              "      <td>20.34</td>\n",
              "    </tr>\n",
              "  </tbody>\n",
              "</table>\n",
              "</div>"
            ],
            "text/plain": [
              "  StockCode                          Description  Quantity  UnitPrice  revenue\n",
              "0    85123A   WHITE HANGING HEART T-LIGHT HOLDER         6       2.55    15.30\n",
              "1     71053                  WHITE METAL LANTERN         6       3.39    20.34\n",
              "2    84406B       CREAM CUPID HEARTS COAT HANGER         8       2.75    22.00\n",
              "3    84029G  KNITTED UNION FLAG HOT WATER BOTTLE         6       3.39    20.34\n",
              "4    84029E       RED WOOLLY HOTTIE WHITE HEART.         6       3.39    20.34"
            ]
          },
          "metadata": {
            "tags": []
          },
          "execution_count": 41
        }
      ]
    },
    {
      "cell_type": "code",
      "metadata": {
        "id": "WMBsir7VA1VJ"
      },
      "source": [
        "# Lets summarize the data for SKU's ( Per SKU Total Quantity & Total Revenue)\r\n",
        "data2= data1.groupby(['StockCode','Description']).agg(Volume=('Quantity',np.sum),Revenue=('revenue',np.sum)).reset_index()"
      ],
      "execution_count": 44,
      "outputs": []
    },
    {
      "cell_type": "code",
      "metadata": {
        "colab": {
          "base_uri": "https://localhost:8080/",
          "height": 201
        },
        "id": "SHhHqnYhA1VJ",
        "outputId": "350f2816-7ed8-4572-b89e-7eb7c99dfa25"
      },
      "source": [
        "data2.head()"
      ],
      "execution_count": 45,
      "outputs": [
        {
          "output_type": "execute_result",
          "data": {
            "text/html": [
              "<div>\n",
              "<style scoped>\n",
              "    .dataframe tbody tr th:only-of-type {\n",
              "        vertical-align: middle;\n",
              "    }\n",
              "\n",
              "    .dataframe tbody tr th {\n",
              "        vertical-align: top;\n",
              "    }\n",
              "\n",
              "    .dataframe thead th {\n",
              "        text-align: right;\n",
              "    }\n",
              "</style>\n",
              "<table border=\"1\" class=\"dataframe\">\n",
              "  <thead>\n",
              "    <tr style=\"text-align: right;\">\n",
              "      <th></th>\n",
              "      <th>StockCode</th>\n",
              "      <th>Description</th>\n",
              "      <th>Volume</th>\n",
              "      <th>Revenue</th>\n",
              "    </tr>\n",
              "  </thead>\n",
              "  <tbody>\n",
              "    <tr>\n",
              "      <th>0</th>\n",
              "      <td>10002</td>\n",
              "      <td>INFLATABLE POLITICAL GLOBE</td>\n",
              "      <td>823</td>\n",
              "      <td>699.55</td>\n",
              "    </tr>\n",
              "    <tr>\n",
              "      <th>1</th>\n",
              "      <td>10080</td>\n",
              "      <td>GROOVY CACTUS INFLATABLE</td>\n",
              "      <td>291</td>\n",
              "      <td>114.41</td>\n",
              "    </tr>\n",
              "    <tr>\n",
              "      <th>2</th>\n",
              "      <td>10120</td>\n",
              "      <td>DOGGY RUBBER</td>\n",
              "      <td>192</td>\n",
              "      <td>40.32</td>\n",
              "    </tr>\n",
              "    <tr>\n",
              "      <th>3</th>\n",
              "      <td>10123C</td>\n",
              "      <td>HEARTS WRAPPING TAPE</td>\n",
              "      <td>5</td>\n",
              "      <td>3.25</td>\n",
              "    </tr>\n",
              "    <tr>\n",
              "      <th>4</th>\n",
              "      <td>10124A</td>\n",
              "      <td>SPOTS ON RED BOOKCOVER TAPE</td>\n",
              "      <td>16</td>\n",
              "      <td>6.72</td>\n",
              "    </tr>\n",
              "  </tbody>\n",
              "</table>\n",
              "</div>"
            ],
            "text/plain": [
              "  StockCode                  Description  Volume  Revenue\n",
              "0     10002  INFLATABLE POLITICAL GLOBE      823   699.55\n",
              "1     10080     GROOVY CACTUS INFLATABLE     291   114.41\n",
              "2     10120                 DOGGY RUBBER     192    40.32\n",
              "3    10123C        HEARTS WRAPPING TAPE        5     3.25\n",
              "4    10124A  SPOTS ON RED BOOKCOVER TAPE      16     6.72"
            ]
          },
          "metadata": {
            "tags": []
          },
          "execution_count": 45
        }
      ]
    },
    {
      "cell_type": "markdown",
      "metadata": {
        "id": "y3AMty3pMYBo"
      },
      "source": [
        "## Let us do the classifcation based on Sales Volume of the items"
      ]
    },
    {
      "cell_type": "code",
      "metadata": {
        "id": "1lqx8p7iA1VJ"
      },
      "source": [
        "# Lets classify the products to A B & C categories\r\n",
        "data_abc= inv.ABC(data2[['Description','Volume']])"
      ],
      "execution_count": 46,
      "outputs": []
    },
    {
      "cell_type": "code",
      "metadata": {
        "id": "em9QIDlhA1VJ",
        "colab": {
          "base_uri": "https://localhost:8080/",
          "height": 414
        },
        "outputId": "9949b22d-b01a-40c7-ba5b-1ba69c3bfbbe"
      },
      "source": [
        "# Lets check the classification\r\n",
        "data_abc"
      ],
      "execution_count": 47,
      "outputs": [
        {
          "output_type": "execute_result",
          "data": {
            "text/html": [
              "<div>\n",
              "<style scoped>\n",
              "    .dataframe tbody tr th:only-of-type {\n",
              "        vertical-align: middle;\n",
              "    }\n",
              "\n",
              "    .dataframe tbody tr th {\n",
              "        vertical-align: top;\n",
              "    }\n",
              "\n",
              "    .dataframe thead th {\n",
              "        text-align: right;\n",
              "    }\n",
              "</style>\n",
              "<table border=\"1\" class=\"dataframe\">\n",
              "  <thead>\n",
              "    <tr style=\"text-align: right;\">\n",
              "      <th></th>\n",
              "      <th>Description</th>\n",
              "      <th>Volume</th>\n",
              "      <th>Percentage</th>\n",
              "      <th>comulative</th>\n",
              "      <th>Category</th>\n",
              "    </tr>\n",
              "  </thead>\n",
              "  <tbody>\n",
              "    <tr>\n",
              "      <th>2602</th>\n",
              "      <td>PAPER CRAFT , LITTLE BIRDIE</td>\n",
              "      <td>80995</td>\n",
              "      <td>1.567882e-02</td>\n",
              "      <td>0.015679</td>\n",
              "      <td>A</td>\n",
              "    </tr>\n",
              "    <tr>\n",
              "      <th>2100</th>\n",
              "      <td>MEDIUM CERAMIC TOP STORAGE JAR</td>\n",
              "      <td>77916</td>\n",
              "      <td>1.508280e-02</td>\n",
              "      <td>0.030762</td>\n",
              "      <td>A</td>\n",
              "    </tr>\n",
              "    <tr>\n",
              "      <th>3020</th>\n",
              "      <td>WORLD WAR 2 GLIDERS ASSTD DESIGNS</td>\n",
              "      <td>54319</td>\n",
              "      <td>1.051494e-02</td>\n",
              "      <td>0.041277</td>\n",
              "      <td>A</td>\n",
              "    </tr>\n",
              "    <tr>\n",
              "      <th>3444</th>\n",
              "      <td>JUMBO BAG RED RETROSPOT</td>\n",
              "      <td>46078</td>\n",
              "      <td>8.919670e-03</td>\n",
              "      <td>0.050196</td>\n",
              "      <td>A</td>\n",
              "    </tr>\n",
              "    <tr>\n",
              "      <th>3459</th>\n",
              "      <td>WHITE HANGING HEART T-LIGHT HOLDER</td>\n",
              "      <td>36706</td>\n",
              "      <td>7.105461e-03</td>\n",
              "      <td>0.057302</td>\n",
              "      <td>A</td>\n",
              "    </tr>\n",
              "    <tr>\n",
              "      <th>...</th>\n",
              "      <td>...</td>\n",
              "      <td>...</td>\n",
              "      <td>...</td>\n",
              "      <td>...</td>\n",
              "      <td>...</td>\n",
              "    </tr>\n",
              "    <tr>\n",
              "      <th>3696</th>\n",
              "      <td>NECKLACE+BRACELET SET PINK DAISY</td>\n",
              "      <td>1</td>\n",
              "      <td>1.935776e-07</td>\n",
              "      <td>0.999999</td>\n",
              "      <td>C</td>\n",
              "    </tr>\n",
              "    <tr>\n",
              "      <th>257</th>\n",
              "      <td>SET/3 TALL GLASS CANDLE HOLDER PINK</td>\n",
              "      <td>1</td>\n",
              "      <td>1.935776e-07</td>\n",
              "      <td>0.999999</td>\n",
              "      <td>C</td>\n",
              "    </tr>\n",
              "    <tr>\n",
              "      <th>2608</th>\n",
              "      <td>SET OF 3 PINK FLYING DUCKS</td>\n",
              "      <td>1</td>\n",
              "      <td>1.935776e-07</td>\n",
              "      <td>1.000000</td>\n",
              "      <td>C</td>\n",
              "    </tr>\n",
              "    <tr>\n",
              "      <th>3686</th>\n",
              "      <td>PINK CRYSTAL GUITAR PHONE CHARM</td>\n",
              "      <td>1</td>\n",
              "      <td>1.935776e-07</td>\n",
              "      <td>1.000000</td>\n",
              "      <td>C</td>\n",
              "    </tr>\n",
              "    <tr>\n",
              "      <th>3590</th>\n",
              "      <td>SILVER AND BLACK ORBIT NECKLACE</td>\n",
              "      <td>1</td>\n",
              "      <td>1.935776e-07</td>\n",
              "      <td>1.000000</td>\n",
              "      <td>C</td>\n",
              "    </tr>\n",
              "  </tbody>\n",
              "</table>\n",
              "<p>3897 rows × 5 columns</p>\n",
              "</div>"
            ],
            "text/plain": [
              "                              Description  Volume  ...  comulative  Category\n",
              "2602          PAPER CRAFT , LITTLE BIRDIE   80995  ...    0.015679         A\n",
              "2100       MEDIUM CERAMIC TOP STORAGE JAR   77916  ...    0.030762         A\n",
              "3020    WORLD WAR 2 GLIDERS ASSTD DESIGNS   54319  ...    0.041277         A\n",
              "3444              JUMBO BAG RED RETROSPOT   46078  ...    0.050196         A\n",
              "3459   WHITE HANGING HEART T-LIGHT HOLDER   36706  ...    0.057302         A\n",
              "...                                   ...     ...  ...         ...       ...\n",
              "3696     NECKLACE+BRACELET SET PINK DAISY       1  ...    0.999999         C\n",
              "257   SET/3 TALL GLASS CANDLE HOLDER PINK       1  ...    0.999999         C\n",
              "2608           SET OF 3 PINK FLYING DUCKS       1  ...    1.000000         C\n",
              "3686      PINK CRYSTAL GUITAR PHONE CHARM       1  ...    1.000000         C\n",
              "3590      SILVER AND BLACK ORBIT NECKLACE       1  ...    1.000000         C\n",
              "\n",
              "[3897 rows x 5 columns]"
            ]
          },
          "metadata": {
            "tags": []
          },
          "execution_count": 47
        }
      ]
    },
    {
      "cell_type": "code",
      "metadata": {
        "colab": {
          "base_uri": "https://localhost:8080/"
        },
        "id": "aGV2Ki8LA1VK",
        "outputId": "85f7a30d-930d-4bdf-819c-352a82a36b77"
      },
      "source": [
        "# let us check the count of Categories\r\n",
        "data_abc.Category.value_counts()"
      ],
      "execution_count": 48,
      "outputs": [
        {
          "output_type": "execute_result",
          "data": {
            "text/plain": [
              "C    2143\n",
              "A     879\n",
              "B     875\n",
              "Name: Category, dtype: int64"
            ]
          },
          "metadata": {
            "tags": []
          },
          "execution_count": 48
        }
      ]
    },
    {
      "cell_type": "code",
      "metadata": {
        "id": "9D_h9DXjA1VK"
      },
      "source": [
        "data_summary= data_abc.groupby('Category').agg(Count=('Category',np.count_nonzero),Percentage=('Percentage',np.sum)).reset_index()"
      ],
      "execution_count": 49,
      "outputs": []
    },
    {
      "cell_type": "code",
      "metadata": {
        "id": "ocJB2N4FA1VK"
      },
      "source": [
        "data_summary['Percentage']= data_summary['Percentage']*100"
      ],
      "execution_count": 50,
      "outputs": []
    },
    {
      "cell_type": "code",
      "metadata": {
        "colab": {
          "base_uri": "https://localhost:8080/",
          "height": 140
        },
        "id": "H4imZsztA1VK",
        "outputId": "d3aa41b3-6b5e-4355-af4b-fac1d85fac10"
      },
      "source": [
        "data_summary"
      ],
      "execution_count": 51,
      "outputs": [
        {
          "output_type": "execute_result",
          "data": {
            "text/html": [
              "<div>\n",
              "<style scoped>\n",
              "    .dataframe tbody tr th:only-of-type {\n",
              "        vertical-align: middle;\n",
              "    }\n",
              "\n",
              "    .dataframe tbody tr th {\n",
              "        vertical-align: top;\n",
              "    }\n",
              "\n",
              "    .dataframe thead th {\n",
              "        text-align: right;\n",
              "    }\n",
              "</style>\n",
              "<table border=\"1\" class=\"dataframe\">\n",
              "  <thead>\n",
              "    <tr style=\"text-align: right;\">\n",
              "      <th></th>\n",
              "      <th>Category</th>\n",
              "      <th>Count</th>\n",
              "      <th>Percentage</th>\n",
              "    </tr>\n",
              "  </thead>\n",
              "  <tbody>\n",
              "    <tr>\n",
              "      <th>0</th>\n",
              "      <td>A</td>\n",
              "      <td>879</td>\n",
              "      <td>79.996597</td>\n",
              "    </tr>\n",
              "    <tr>\n",
              "      <th>1</th>\n",
              "      <td>B</td>\n",
              "      <td>875</td>\n",
              "      <td>15.000989</td>\n",
              "    </tr>\n",
              "    <tr>\n",
              "      <th>2</th>\n",
              "      <td>C</td>\n",
              "      <td>2143</td>\n",
              "      <td>5.002414</td>\n",
              "    </tr>\n",
              "  </tbody>\n",
              "</table>\n",
              "</div>"
            ],
            "text/plain": [
              "  Category  Count  Percentage\n",
              "0        A    879   79.996597\n",
              "1        B    875   15.000989\n",
              "2        C   2143    5.002414"
            ]
          },
          "metadata": {
            "tags": []
          },
          "execution_count": 51
        }
      ]
    },
    {
      "cell_type": "code",
      "metadata": {
        "colab": {
          "base_uri": "https://localhost:8080/",
          "height": 296
        },
        "id": "r65us_nsA1VL",
        "outputId": "898f0185-ac0c-4351-af98-9813d6f959e6"
      },
      "source": [
        "# Lets plot the graph for count of Categories A, B, C\r\n",
        "sns.countplot(x='Category',data=data_abc, label=True )"
      ],
      "execution_count": 52,
      "outputs": [
        {
          "output_type": "execute_result",
          "data": {
            "text/plain": [
              "<matplotlib.axes._subplots.AxesSubplot at 0x7f1e2951c080>"
            ]
          },
          "metadata": {
            "tags": []
          },
          "execution_count": 52
        },
        {
          "output_type": "display_data",
          "data": {
            "image/png": "[encoded data removed]",
            "text/plain": [
              "<Figure size 432x288 with 1 Axes>"
            ]
          },
          "metadata": {
            "tags": [],
            "needs_background": "light"
          }
        }
      ]
    },
    {
      "cell_type": "code",
      "metadata": {
        "colab": {
          "base_uri": "https://localhost:8080/",
          "height": 296
        },
        "id": "RsKcBKnHA1VM",
        "outputId": "e69f77b1-daed-44cf-9dba-3ed2ced00175"
      },
      "source": [
        "# Lets plot the graph for volume of sales\r\n",
        "sns.barplot(x='Category',y='Volume',data=data_abc)"
      ],
      "execution_count": 53,
      "outputs": [
        {
          "output_type": "execute_result",
          "data": {
            "text/plain": [
              "<matplotlib.axes._subplots.AxesSubplot at 0x7f1e29aeea90>"
            ]
          },
          "metadata": {
            "tags": []
          },
          "execution_count": 53
        },
        {
          "output_type": "display_data",
          "data": {
            "image/png": "[encoded data removed]",
            "text/plain": [
              "<Figure size 432x288 with 1 Axes>"
            ]
          },
          "metadata": {
            "tags": [],
            "needs_background": "light"
          }
        }
      ]
    },
    {
      "cell_type": "markdown",
      "metadata": {
        "id": "SyUADH2wMzXG"
      },
      "source": [
        "## Classification based on Sales Revenue"
      ]
    },
    {
      "cell_type": "code",
      "metadata": {
        "colab": {
          "base_uri": "https://localhost:8080/"
        },
        "id": "pHd0_hekM4EE",
        "outputId": "12d2c183-7d20-404b-96f8-6de162246a66"
      },
      "source": [
        "data_abc1= inv.ABC(data2[['Description','Revenue']])\r\n",
        "# let us check the count of Categories\r\n",
        "data_abc1.Category.value_counts()"
      ],
      "execution_count": 54,
      "outputs": [
        {
          "output_type": "execute_result",
          "data": {
            "text/plain": [
              "C    2128\n",
              "B     960\n",
              "A     809\n",
              "Name: Category, dtype: int64"
            ]
          },
          "metadata": {
            "tags": []
          },
          "execution_count": 54
        }
      ]
    }
  ]
}